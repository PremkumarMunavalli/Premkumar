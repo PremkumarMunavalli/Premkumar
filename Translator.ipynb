{
  "nbformat": 4,
  "nbformat_minor": 0,
  "metadata": {
    "colab": {
      "provenance": [],
      "authorship_tag": "ABX9TyOYXGjFG5Zue6OQY6tMe2Ls",
      "include_colab_link": true
    },
    "kernelspec": {
      "name": "python3",
      "display_name": "Python 3"
    },
    "language_info": {
      "name": "python"
    }
  },
  "cells": [
    {
      "cell_type": "markdown",
      "metadata": {
        "id": "view-in-github",
        "colab_type": "text"
      },
      "source": [
        "<a href=\"https://colab.research.google.com/github/PremkumarMunavalli/Premkumar/blob/master/Translator.ipynb\" target=\"_parent\"><img src=\"https://colab.research.google.com/assets/colab-badge.svg\" alt=\"Open In Colab\"/></a>"
      ]
    },
    {
      "cell_type": "code",
      "execution_count": null,
      "metadata": {
        "id": "fcrdD6GmStOy"
      },
      "outputs": [],
      "source": [
        "import numpy as np\n",
        "import math\n",
        "L , d_k, d_v = 4,8,8\n",
        "q = np.random.randn(L,d_k)\n",
        "k = np.random.randn(L,d_k)\n",
        "v = np.random.randn(L,d_v)\n"
      ]
    },
    {
      "cell_type": "code",
      "source": [
        "print(Q.shape)\n",
        "print(K.shape)\n",
        "print(V.shape)"
      ],
      "metadata": {
        "colab": {
          "base_uri": "https://localhost:8080/"
        },
        "id": "q_mrUMCD9LkW",
        "outputId": "dd155b7e-d379-4840-9d23-b77a4e2a2758"
      },
      "execution_count": null,
      "outputs": [
        {
          "output_type": "stream",
          "name": "stdout",
          "text": [
            "(4, 8)\n",
            "(4, 8)\n",
            "(4, 8)\n"
          ]
        }
      ]
    },
    {
      "cell_type": "code",
      "source": [
        "q.var(), k.var(), np.matmul(q,K.T).var()"
      ],
      "metadata": {
        "colab": {
          "base_uri": "https://localhost:8080/"
        },
        "id": "4HHvbvQR9NH_",
        "outputId": "5d4b135f-c3d4-4b00-8961-02f6decafefe"
      },
      "execution_count": null,
      "outputs": [
        {
          "output_type": "execute_result",
          "data": {
            "text/plain": [
              "(0.8921828966708382, 0.9942861462727666, 2.9042659583598605)"
            ]
          },
          "metadata": {},
          "execution_count": 6
        }
      ]
    },
    {
      "cell_type": "code",
      "source": [
        "# prompt: scaled = np.matmul(q, K.T) / math.sqrt(d_k)\n",
        "\n",
        "import numpy as np\n",
        "import math\n",
        "L , d_k, d_v = 4,8,8\n",
        "q = np.random.randn(L,d_k)\n",
        "k = np.random.randn(L,d_k)\n",
        "v = np.random.randn(L,d_v)\n",
        "\n",
        "scaled = np.matmul(q, k.T) / math.sqrt(d_k)\n",
        "scaled"
      ],
      "metadata": {
        "id": "nmHRxCXy-urm"
      },
      "execution_count": null,
      "outputs": []
    },
    {
      "cell_type": "code",
      "source": [
        "q.var(), k.var(), scaled.var()"
      ],
      "metadata": {
        "colab": {
          "base_uri": "https://localhost:8080/",
          "height": 144
        },
        "id": "1SzgqssHYzmi",
        "outputId": "38535af3-b21a-4856-a03a-b93178f5b725"
      },
      "execution_count": 7,
      "outputs": [
        {
          "output_type": "error",
          "ename": "NameError",
          "evalue": "name 'scaled' is not defined",
          "traceback": [
            "\u001b[0;31m---------------------------------------------------------------------------\u001b[0m",
            "\u001b[0;31mNameError\u001b[0m                                 Traceback (most recent call last)",
            "\u001b[0;32m<ipython-input-7-ebe796a360ea>\u001b[0m in \u001b[0;36m<cell line: 0>\u001b[0;34m()\u001b[0m\n\u001b[0;32m----> 1\u001b[0;31m \u001b[0mq\u001b[0m\u001b[0;34m.\u001b[0m\u001b[0mvar\u001b[0m\u001b[0;34m(\u001b[0m\u001b[0;34m)\u001b[0m\u001b[0;34m,\u001b[0m \u001b[0mk\u001b[0m\u001b[0;34m.\u001b[0m\u001b[0mvar\u001b[0m\u001b[0;34m(\u001b[0m\u001b[0;34m)\u001b[0m\u001b[0;34m,\u001b[0m \u001b[0mscaled\u001b[0m\u001b[0;34m.\u001b[0m\u001b[0mvar\u001b[0m\u001b[0;34m(\u001b[0m\u001b[0;34m)\u001b[0m\u001b[0;34m\u001b[0m\u001b[0;34m\u001b[0m\u001b[0m\n\u001b[0m",
            "\u001b[0;31mNameError\u001b[0m: name 'scaled' is not defined"
          ]
        }
      ]
    },
    {
      "cell_type": "code",
      "source": [
        "q.var(), k.var(), np.matmul(q,K.T).var()\n"
      ],
      "metadata": {
        "colab": {
          "base_uri": "https://localhost:8080/"
        },
        "id": "6TpqBf5EY1J0",
        "outputId": "d5285429-3d5f-42bc-fb90-e5d2984590c7"
      },
      "execution_count": 9,
      "outputs": [
        {
          "output_type": "execute_result",
          "data": {
            "text/plain": [
              "(0.8921828966708382, 0.9942861462727666, 2.9042659583598605)"
            ]
          },
          "metadata": {},
          "execution_count": 9
        }
      ]
    },
    {
      "cell_type": "code",
      "source": [
        "#what is masking, we dont look at future work, in the real world,\n",
        "# so that the next word is not known, not required for the encoders\n",
        "\n",
        "mask ="
      ],
      "metadata": {
        "id": "C5TKhKRYY7Ur"
      },
      "execution_count": null,
      "outputs": []
    }
  ]
}